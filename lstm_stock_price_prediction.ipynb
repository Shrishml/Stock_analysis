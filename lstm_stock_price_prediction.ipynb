{
  "nbformat": 4,
  "nbformat_minor": 0,
  "metadata": {
    "colab": {
      "name": "lstm_stock_price_prediction.ipynb",
      "provenance": [],
      "collapsed_sections": [],
      "authorship_tag": "ABX9TyPENKJuwbrG1UiAaG4eoeLW",
      "include_colab_link": true
    },
    "kernelspec": {
      "name": "python3",
      "display_name": "Python 3"
    },
    "language_info": {
      "name": "python"
    }
  },
  "cells": [
    {
      "cell_type": "markdown",
      "metadata": {
        "id": "view-in-github",
        "colab_type": "text"
      },
      "source": [
        "<a href=\"https://colab.research.google.com/github/Shrishml/Stock_analysis/blob/main/lstm_stock_price_prediction.ipynb\" target=\"_parent\"><img src=\"https://colab.research.google.com/assets/colab-badge.svg\" alt=\"Open In Colab\"/></a>"
      ]
    },
    {
      "cell_type": "markdown",
      "metadata": {
        "id": "codF5H67xYTK"
      },
      "source": [
        "**Stock prices follows Brownian motion, making it very difficult to predict. I personally do not belive in technical trading. I am just explroing some the deep learning techniques to predict the stock price.**"
      ]
    },
    {
      "cell_type": "markdown",
      "metadata": {
        "id": "7hL4zOWRxUwF"
      },
      "source": [
        ""
      ]
    },
    {
      "cell_type": "code",
      "metadata": {
        "id": "IXaNkB8oxVZn"
      },
      "source": [
        "import keras\n",
        "import pandas as pd\n",
        "import numpy as np\n",
        "import matplotlib.pyplot as plt"
      ],
      "execution_count": 1,
      "outputs": []
    },
    {
      "cell_type": "markdown",
      "metadata": {
        "id": "87X8MplCsUoC"
      },
      "source": [
        " Installing quandl\n",
        "\n",
        " \n",
        " We will take data of HDFC bank from BSE."
      ]
    },
    {
      "cell_type": "code",
      "metadata": {
        "id": "UfUKh2V_iHfz",
        "colab": {
          "base_uri": "https://localhost:8080/"
        },
        "outputId": "c8cec943-e756-473e-a1d8-cea224a1faab"
      },
      "source": [
        "!pip install quandl"
      ],
      "execution_count": 2,
      "outputs": [
        {
          "output_type": "stream",
          "text": [
            "Collecting quandl\n",
            "  Downloading Quandl-3.6.1-py2.py3-none-any.whl (26 kB)\n",
            "Requirement already satisfied: numpy>=1.8 in /usr/local/lib/python3.7/dist-packages (from quandl) (1.19.5)\n",
            "Requirement already satisfied: pandas>=0.14 in /usr/local/lib/python3.7/dist-packages (from quandl) (1.1.5)\n",
            "Requirement already satisfied: requests>=2.7.0 in /usr/local/lib/python3.7/dist-packages (from quandl) (2.23.0)\n",
            "Collecting inflection>=0.3.1\n",
            "  Downloading inflection-0.5.1-py2.py3-none-any.whl (9.5 kB)\n",
            "Requirement already satisfied: six in /usr/local/lib/python3.7/dist-packages (from quandl) (1.15.0)\n",
            "Requirement already satisfied: more-itertools in /usr/local/lib/python3.7/dist-packages (from quandl) (8.8.0)\n",
            "Requirement already satisfied: python-dateutil in /usr/local/lib/python3.7/dist-packages (from quandl) (2.8.1)\n",
            "Requirement already satisfied: pytz>=2017.2 in /usr/local/lib/python3.7/dist-packages (from pandas>=0.14->quandl) (2018.9)\n",
            "Requirement already satisfied: certifi>=2017.4.17 in /usr/local/lib/python3.7/dist-packages (from requests>=2.7.0->quandl) (2021.5.30)\n",
            "Requirement already satisfied: urllib3!=1.25.0,!=1.25.1,<1.26,>=1.21.1 in /usr/local/lib/python3.7/dist-packages (from requests>=2.7.0->quandl) (1.24.3)\n",
            "Requirement already satisfied: chardet<4,>=3.0.2 in /usr/local/lib/python3.7/dist-packages (from requests>=2.7.0->quandl) (3.0.4)\n",
            "Requirement already satisfied: idna<3,>=2.5 in /usr/local/lib/python3.7/dist-packages (from requests>=2.7.0->quandl) (2.10)\n",
            "Installing collected packages: inflection, quandl\n",
            "Successfully installed inflection-0.5.1 quandl-3.6.1\n"
          ],
          "name": "stdout"
        }
      ]
    },
    {
      "cell_type": "code",
      "metadata": {
        "id": "DTRbitw1UydU"
      },
      "source": [
        "import quandl"
      ],
      "execution_count": 3,
      "outputs": []
    },
    {
      "cell_type": "code",
      "metadata": {
        "id": "Kl9gbBdbi5dp",
        "colab": {
          "base_uri": "https://localhost:8080/",
          "height": 341
        },
        "outputId": "22a19d9c-7bac-4fb6-c20b-f45dfe0f38c3"
      },
      "source": [
        "my_data =  quandl.get('BSE/BOM500180', start_date='2000-03-13', end_date='2021-08-09')\n",
        "my_data.head()"
      ],
      "execution_count": 4,
      "outputs": [
        {
          "output_type": "execute_result",
          "data": {
            "text/html": [
              "<div>\n",
              "<style scoped>\n",
              "    .dataframe tbody tr th:only-of-type {\n",
              "        vertical-align: middle;\n",
              "    }\n",
              "\n",
              "    .dataframe tbody tr th {\n",
              "        vertical-align: top;\n",
              "    }\n",
              "\n",
              "    .dataframe thead th {\n",
              "        text-align: right;\n",
              "    }\n",
              "</style>\n",
              "<table border=\"1\" class=\"dataframe\">\n",
              "  <thead>\n",
              "    <tr style=\"text-align: right;\">\n",
              "      <th></th>\n",
              "      <th>Open</th>\n",
              "      <th>High</th>\n",
              "      <th>Low</th>\n",
              "      <th>Close</th>\n",
              "      <th>WAP</th>\n",
              "      <th>No. of Shares</th>\n",
              "      <th>No. of Trades</th>\n",
              "      <th>Total Turnover</th>\n",
              "      <th>Deliverable Quantity</th>\n",
              "      <th>% Deli. Qty to Traded Qty</th>\n",
              "      <th>Spread H-L</th>\n",
              "      <th>Spread C-O</th>\n",
              "    </tr>\n",
              "    <tr>\n",
              "      <th>Date</th>\n",
              "      <th></th>\n",
              "      <th></th>\n",
              "      <th></th>\n",
              "      <th></th>\n",
              "      <th></th>\n",
              "      <th></th>\n",
              "      <th></th>\n",
              "      <th></th>\n",
              "      <th></th>\n",
              "      <th></th>\n",
              "      <th></th>\n",
              "      <th></th>\n",
              "    </tr>\n",
              "  </thead>\n",
              "  <tbody>\n",
              "    <tr>\n",
              "      <th>2000-03-13</th>\n",
              "      <td>245.0</td>\n",
              "      <td>276.45</td>\n",
              "      <td>245.0</td>\n",
              "      <td>276.0</td>\n",
              "      <td>265.231550</td>\n",
              "      <td>200186.0</td>\n",
              "      <td>1340.0</td>\n",
              "      <td>53095643.0</td>\n",
              "      <td>NaN</td>\n",
              "      <td>NaN</td>\n",
              "      <td>31.45</td>\n",
              "      <td>31.0</td>\n",
              "    </tr>\n",
              "    <tr>\n",
              "      <th>2000-03-14</th>\n",
              "      <td>273.0</td>\n",
              "      <td>279.00</td>\n",
              "      <td>260.0</td>\n",
              "      <td>268.9</td>\n",
              "      <td>265.145800</td>\n",
              "      <td>120466.0</td>\n",
              "      <td>1219.0</td>\n",
              "      <td>31941054.0</td>\n",
              "      <td>NaN</td>\n",
              "      <td>NaN</td>\n",
              "      <td>19.00</td>\n",
              "      <td>-4.1</td>\n",
              "    </tr>\n",
              "    <tr>\n",
              "      <th>2000-03-15</th>\n",
              "      <td>265.0</td>\n",
              "      <td>265.00</td>\n",
              "      <td>256.0</td>\n",
              "      <td>259.0</td>\n",
              "      <td>259.383217</td>\n",
              "      <td>97193.0</td>\n",
              "      <td>807.0</td>\n",
              "      <td>25210233.0</td>\n",
              "      <td>NaN</td>\n",
              "      <td>NaN</td>\n",
              "      <td>9.00</td>\n",
              "      <td>-6.0</td>\n",
              "    </tr>\n",
              "    <tr>\n",
              "      <th>2000-03-16</th>\n",
              "      <td>258.0</td>\n",
              "      <td>261.95</td>\n",
              "      <td>255.0</td>\n",
              "      <td>256.9</td>\n",
              "      <td>257.744817</td>\n",
              "      <td>148239.0</td>\n",
              "      <td>1134.0</td>\n",
              "      <td>38207834.0</td>\n",
              "      <td>NaN</td>\n",
              "      <td>NaN</td>\n",
              "      <td>6.95</td>\n",
              "      <td>-1.1</td>\n",
              "    </tr>\n",
              "    <tr>\n",
              "      <th>2000-03-21</th>\n",
              "      <td>257.0</td>\n",
              "      <td>260.90</td>\n",
              "      <td>238.0</td>\n",
              "      <td>254.5</td>\n",
              "      <td>252.782404</td>\n",
              "      <td>96077.0</td>\n",
              "      <td>839.0</td>\n",
              "      <td>24286575.0</td>\n",
              "      <td>NaN</td>\n",
              "      <td>NaN</td>\n",
              "      <td>22.90</td>\n",
              "      <td>-2.5</td>\n",
              "    </tr>\n",
              "  </tbody>\n",
              "</table>\n",
              "</div>"
            ],
            "text/plain": [
              "             Open    High  ...  Spread H-L  Spread C-O\n",
              "Date                       ...                        \n",
              "2000-03-13  245.0  276.45  ...       31.45        31.0\n",
              "2000-03-14  273.0  279.00  ...       19.00        -4.1\n",
              "2000-03-15  265.0  265.00  ...        9.00        -6.0\n",
              "2000-03-16  258.0  261.95  ...        6.95        -1.1\n",
              "2000-03-21  257.0  260.90  ...       22.90        -2.5\n",
              "\n",
              "[5 rows x 12 columns]"
            ]
          },
          "metadata": {
            "tags": []
          },
          "execution_count": 4
        }
      ]
    },
    {
      "cell_type": "code",
      "metadata": {
        "id": "kYKxgKKeUQI3"
      },
      "source": [
        "def adjust_stock_split(my_data, split_dates, split_val):\n",
        "    split_dates = pd.to_datetime(split_dates).sort_values()\n",
        "    for i in range(len(split_dates)):\n",
        "        my_data.Close[my_data.index<split_dates[i]]= my_data.Close[my_data.index<split_dates[i]]/split_val[i]\n",
        "    return my_data"
      ],
      "execution_count": null,
      "outputs": []
    },
    {
      "cell_type": "markdown",
      "metadata": {
        "id": "i3zmGxuZUl4K"
      },
      "source": [
        "quandl BSE data is not giving adjusted close price, it does not account for stock split. So we have to do it externally."
      ]
    },
    {
      "cell_type": "code",
      "metadata": {
        "id": "hIGyKC_yUOi-"
      },
      "source": [
        "my_data.Close[my_data.index<pd.to_datetime('14-07-2011')]= my_data.Close[my_data.index<pd.to_datetime(\"14-07-2011\")]/5 # 5 split\n",
        "\n",
        "my_data.Close[my_data.index< pd.to_datetime('2019-09-19')]= my_data.Close[my_data.index< pd.to_datetime('2019-09-19')]/2 # 2 split"
      ],
      "execution_count": 5,
      "outputs": []
    },
    {
      "cell_type": "code",
      "metadata": {
        "colab": {
          "base_uri": "https://localhost:8080/",
          "height": 287
        },
        "id": "64P-nAiWjFgC",
        "outputId": "4cf88d03-da65-471d-b0bd-09db18813553"
      },
      "source": [
        "my_data['Close'].plot()"
      ],
      "execution_count": 6,
      "outputs": [
        {
          "output_type": "execute_result",
          "data": {
            "text/plain": [
              "<matplotlib.axes._subplots.AxesSubplot at 0x7f3bb3e44d10>"
            ]
          },
          "metadata": {
            "tags": []
          },
          "execution_count": 6
        },
        {
          "output_type": "display_data",
          "data": {
            "image/png": "[encoded data removed]",
            "text/plain": [
              "<Figure size 432x288 with 1 Axes>"
            ]
          },
          "metadata": {
            "tags": [],
            "needs_background": "light"
          }
        }
      ]
    },
    {
      "cell_type": "code",
      "metadata": {
        "id": "PBOqPcokjKwk"
      },
      "source": [
        "from sklearn.preprocessing import MinMaxScaler"
      ],
      "execution_count": 7,
      "outputs": []
    },
    {
      "cell_type": "markdown",
      "metadata": {
        "id": "UCi9awcRspb9"
      },
      "source": [
        "We make the last 10 days of data as the input data and data of 11th day as output data.\n",
        "\n",
        "Here, We are just trying to predict the one day data.\n",
        "\n",
        "Which is not very useful though."
      ]
    },
    {
      "cell_type": "code",
      "metadata": {
        "colab": {
          "base_uri": "https://localhost:8080/"
        },
        "id": "zHPxtJZEjOhM",
        "outputId": "25b3d2cf-df3f-4adf-e0b0-a5bbb6ef960a"
      },
      "source": [
        "cl = my_data.Close.astype('float32')\n",
        "train = cl[0:int(len(cl)*0.90)]\n",
        "scl = MinMaxScaler()\n",
        "#Scale the data\n",
        "scl.fit(train.values.reshape(-1,1))\n",
        "cl =scl.transform(cl.values.reshape(-1,1))\n",
        "#Create a function to process the data into lb observations look back slices\n",
        "# and create the train test dataset (90-10)\n",
        "\n",
        "my_data['Close_scaled']=cl\n",
        "\n",
        "def processData(data,lb):\n",
        "    new_data = pd.DataFrame(index = my_data.index, data=np.array([data.Close_scaled.shift(-1*i).values for i in range(lb)]).T)\n",
        "    Y=my_data['Close'].iloc[lb:].values\n",
        "    X=new_data.values\n",
        "    return np.array(X[:len(data)-lb-1]),np.array(Y[:len(data)-lb-1])\n",
        "\n",
        "lb=10\n",
        "X,y = processData(my_data,lb)\n",
        "\n",
        "X_train,X_test = X[:int(X.shape[0]*0.90)],X[int(X.shape[0]*0.90):]\n",
        "y_train,y_test = y[:int(y.shape[0]*0.90)],y[int(y.shape[0]*0.90):]\n",
        "print(X_train.shape[0],X_train.shape[1])\n",
        "print(X_test.shape[0], X_test.shape[1])\n",
        "print(y_train.shape[0])\n",
        "print(y_test.shape[0])"
      ],
      "execution_count": 8,
      "outputs": [
        {
          "output_type": "stream",
          "text": [
            "4783 10\n",
            "532 10\n",
            "4783\n",
            "532\n"
          ],
          "name": "stdout"
        }
      ]
    },
    {
      "cell_type": "code",
      "metadata": {
        "id": "MN50G8YsjYNS"
      },
      "source": [
        "from keras.layers import LSTM\n",
        "from keras import Sequential\n",
        "from keras.layers import Dense"
      ],
      "execution_count": 9,
      "outputs": []
    },
    {
      "cell_type": "markdown",
      "metadata": {
        "id": "eD59tDLMtBhj"
      },
      "source": [
        "We train LSTM(Long Short Term Memory) model with the data."
      ]
    },
    {
      "cell_type": "code",
      "metadata": {
        "colab": {
          "base_uri": "https://localhost:8080/"
        },
        "id": "qph6UgdKjd7l",
        "outputId": "2ea5aff6-085d-4199-d4aa-16f010701b88"
      },
      "source": [
        "model = Sequential()\n",
        "\n",
        "model.add(LSTM(256,input_shape=(lb,1)))\n",
        "model.add(Dense(1))\n",
        "model.compile(optimizer='adam',loss='mse')\n",
        "#Reshape data for (Sample,Timestep,Features) \n",
        "X_train = X_train.reshape((X_train.shape[0],X_train.shape[1],1))\n",
        "X_test = X_test.reshape((X_test.shape[0],X_test.shape[1],1))\n",
        "#Fit model with history to check for overfitting\n",
        "history = model.fit(X_train,y_train,epochs=300,validation_data=(X_test,y_test),shuffle=False)\n",
        "model.summary()"
      ],
      "execution_count": null,
      "outputs": [
        {
          "output_type": "stream",
          "text": [
            "Epoch 1/300\n",
            "150/150 [==============================] - 23s 37ms/step - loss: 19770.7268 - val_loss: 1396225.6250\n",
            "Epoch 2/300\n",
            "150/150 [==============================] - 5s 32ms/step - loss: 17896.1188 - val_loss: 1342161.7500\n",
            "Epoch 3/300\n",
            "150/150 [==============================] - 5s 32ms/step - loss: 18102.9943 - val_loss: 1296413.8750\n",
            "Epoch 4/300\n",
            "150/150 [==============================] - 5s 32ms/step - loss: 19101.3085 - val_loss: 1256339.0000\n",
            "Epoch 5/300\n",
            "150/150 [==============================] - 5s 31ms/step - loss: 20669.8225 - val_loss: 1221913.8750\n",
            "Epoch 6/300\n",
            "150/150 [==============================] - 5s 32ms/step - loss: 24357.3974 - val_loss: 1267598.8750\n",
            "Epoch 7/300\n",
            "150/150 [==============================] - 5s 32ms/step - loss: 15408.5872 - val_loss: 1226429.1250\n",
            "Epoch 8/300\n",
            "150/150 [==============================] - 5s 32ms/step - loss: 22198.0869 - val_loss: 1198727.7500\n",
            "Epoch 9/300\n",
            "150/150 [==============================] - 5s 31ms/step - loss: 23151.0018 - val_loss: 1111057.5000\n",
            "Epoch 10/300\n",
            "150/150 [==============================] - 5s 32ms/step - loss: 27667.4124 - val_loss: 1089805.7500\n",
            "Epoch 11/300\n",
            "150/150 [==============================] - 5s 32ms/step - loss: 21551.1090 - val_loss: 1164222.8750\n",
            "Epoch 12/300\n",
            "150/150 [==============================] - 5s 32ms/step - loss: 25486.4114 - val_loss: 1250664.6250\n",
            "Epoch 13/300\n",
            "150/150 [==============================] - 5s 32ms/step - loss: 18549.6161 - val_loss: 1015904.2500\n",
            "Epoch 14/300\n",
            "150/150 [==============================] - 5s 32ms/step - loss: 32243.5991 - val_loss: 1078940.2500\n",
            "Epoch 15/300\n",
            "150/150 [==============================] - 5s 33ms/step - loss: 35555.1750 - val_loss: 1076132.2500\n",
            "Epoch 16/300\n",
            "150/150 [==============================] - 5s 33ms/step - loss: 36010.0187 - val_loss: 1061619.1250\n",
            "Epoch 17/300\n",
            "150/150 [==============================] - 5s 33ms/step - loss: 37841.9703 - val_loss: 1035280.3750\n",
            "Epoch 18/300\n",
            "150/150 [==============================] - 5s 32ms/step - loss: 40346.1909 - val_loss: 1047930.6875\n",
            "Epoch 19/300\n",
            "150/150 [==============================] - 5s 32ms/step - loss: 32244.1458 - val_loss: 982285.3125\n",
            "Epoch 20/300\n",
            "133/150 [=========================>....] - ETA: 0s - loss: 18812.9511"
          ],
          "name": "stdout"
        }
      ]
    },
    {
      "cell_type": "code",
      "metadata": {
        "id": "_zhkNALjjkCM"
      },
      "source": [
        "plt.figure(figsize=(12,8))\n",
        "Xt = model.predict(X_train)\n",
        "plt.plot(scl.inverse_transform(y_train.reshape(-1,1)), label=\"Actual\")\n",
        "plt.plot(scl.inverse_transform(Xt), label=\"Predicted\")\n",
        "plt.legend()\n",
        "plt.title(\"Train Dataset\")"
      ],
      "execution_count": null,
      "outputs": []
    },
    {
      "cell_type": "code",
      "metadata": {
        "id": "ViKRIsncj3Fc"
      },
      "source": [
        "plt.figure(figsize=(12,8))\n",
        "Xt = model.predict(X_test)\n",
        "plt.plot(scl.inverse_transform(y_test.reshape(-1,1)), label=\"Actual\")\n",
        "plt.plot(scl.inverse_transform(Xt), label=\"Predicted\")\n",
        "plt.legend()\n",
        "plt.title(\"Test Dataset\")"
      ],
      "execution_count": null,
      "outputs": []
    },
    {
      "cell_type": "code",
      "metadata": {
        "id": "DF3E6i4Ark7l"
      },
      "source": [
        ""
      ],
      "execution_count": null,
      "outputs": []
    },
    {
      "cell_type": "code",
      "metadata": {
        "id": "5cdOVoJjj-T_"
      },
      "source": [
        ""
      ],
      "execution_count": null,
      "outputs": []
    },
    {
      "cell_type": "code",
      "metadata": {
        "id": "BWa07FyYquDR"
      },
      "source": [
        ""
      ],
      "execution_count": null,
      "outputs": []
    }
  ]
}